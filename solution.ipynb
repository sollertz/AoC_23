{
 "cells": [
  {
   "cell_type": "code",
   "execution_count": 174,
   "metadata": {},
   "outputs": [],
   "source": [
    "test = readlines(\"day4_1.txt\")\n",
    "a = deleteat!.([split(a,[':','|']) for a in test],1)\n",
    "\n",
    "\n",
    "c = [split.(b,\" \") for b in a]\n",
    "e= []\n",
    "f = []\n",
    "for j in c\n",
    "    d=[]\n",
    "    for i in j[1]\n",
    "        if length(i) >=1\n",
    "            push!(d,i)\n",
    "        end\n",
    "    end\n",
    "    push!(e,d)\n",
    "    d=[]\n",
    "    for i in j[2]\n",
    "        if length(i) >=1\n",
    "            push!(d,i)\n",
    "        end\n",
    "    end\n",
    "    push!(f,d)\n",
    "end\n"
   ]
  },
  {
   "cell_type": "code",
   "execution_count": 175,
   "metadata": {},
   "outputs": [
    {
     "data": {
      "text/plain": [
       "20407"
      ]
     },
     "metadata": {},
     "output_type": "display_data"
    }
   ],
   "source": [
    "e = Set.(e)\n",
    "f = Set.(f)\n",
    "hits = length.(intersect.(e,f))\n",
    "sum(1 .* 2 .^ (hits[hits .> 0] .-1))"
   ]
  },
  {
   "cell_type": "code",
   "execution_count": 183,
   "metadata": {},
   "outputs": [
    {
     "data": {
      "text/plain": [
       "23806951"
      ]
     },
     "metadata": {},
     "output_type": "display_data"
    }
   ],
   "source": [
    "copies = ones(length(hits))\n",
    "for j in range(1,length(copies))\n",
    "    for i in range(1,hits[j])\n",
    "        if j + i <= length(copies)\n",
    "            copies[i+j] += 1 * copies[j]\n",
    "        end\n",
    "    end\n",
    "end\n",
    "Int(sum(copies))\n"
   ]
  }
 ],
 "metadata": {
  "kernelspec": {
   "display_name": "Julia 1.9.0",
   "language": "julia",
   "name": "julia-1.9"
  },
  "language_info": {
   "file_extension": ".jl",
   "mimetype": "application/julia",
   "name": "julia",
   "version": "1.9.0"
  }
 },
 "nbformat": 4,
 "nbformat_minor": 2
}
