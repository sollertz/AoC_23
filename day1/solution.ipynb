{
 "cells": [
  {
   "cell_type": "code",
   "execution_count": 70,
   "metadata": {},
   "outputs": [
    {
     "data": {
      "text/plain": [
       "54338"
      ]
     },
     "metadata": {},
     "output_type": "display_data"
    }
   ],
   "source": [
    "test = readlines(\"day1_1.txt\");\n",
    "c = sum(parse.(Int,[a[1]*a[end] for a in filter.(isdigit,test)]))"
   ]
  },
  {
   "cell_type": "code",
   "execution_count": 130,
   "metadata": {},
   "outputs": [
    {
     "data": {
      "text/plain": [
       "53389"
      ]
     },
     "metadata": {},
     "output_type": "display_data"
    }
   ],
   "source": [
    "test2 = readlines(\"day1_2.txt\")\n",
    "test2_bu = []\n",
    "while test2 != test2_bu\n",
    "    test2_bu = copy(test2)\n",
    "    test2 = replace.(test2,\"one\" => \"1e\",\"two\" => \"2o\",\"three\" => \"3e\",\"four\" => \"4r\",\"five\" => \"5e\",\"six\" => \"6x\",\"seven\" => \"7n\",\"eight\" => \"8t\",\"nine\" => \"9e\")\n",
    "end\n",
    "sum(parse.(Int,[a[1]*a[end] for a in filter.(isdigit,test2)]))"
   ]
  }
 ],
 "metadata": {
  "kernelspec": {
   "display_name": "Julia 1.9.0",
   "language": "julia",
   "name": "julia-1.9"
  },
  "language_info": {
   "file_extension": ".jl",
   "mimetype": "application/julia",
   "name": "julia",
   "version": "1.9.0"
  }
 },
 "nbformat": 4,
 "nbformat_minor": 2
}
